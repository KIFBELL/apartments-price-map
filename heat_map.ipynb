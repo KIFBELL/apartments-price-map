{
 "cells": [
  {
   "cell_type": "code",
   "execution_count": 1,
   "metadata": {},
   "outputs": [],
   "source": [
    "import pandas as pd\n",
    "import numpy as np\n",
    "\n",
    "import geopandas as gpd\n",
    "import matplotlib.pyplot as plt\n",
    "import seaborn as sns\n",
    "\n",
    "sns.set(style=\"darkgrid\")\n",
    "import os\n",
    "import glob\n",
    "import parsing\n",
    "from typing import Pattern, List"
   ]
  },
  {
   "cell_type": "code",
   "execution_count": null,
   "metadata": {},
   "outputs": [],
   "source": []
  },
  {
   "cell_type": "code",
   "execution_count": 2,
   "metadata": {},
   "outputs": [],
   "source": [
    "def get_merged_data(city) -> pd.DataFrame:\n",
    "    \"\"\"returns merged df of all the districts\"\"\"\n",
    "\n",
    "    def get_raion_file(ind: int) -> pd.DataFrame:\n",
    "        \"\"\"take a raion files and returns df with raion name column\"\"\"\n",
    "        file_data = pd.read_excel(list_of_files[ind])\n",
    "        if not file_data.empty:\n",
    "            file_data['raion_name'] = regions[\"raion_name\"][ind]\n",
    "        else:\n",
    "            file_data = pd.DataFrame(data={'raion_name': [regions[\"raion_name\"][ind]]})\n",
    "        return file_data\n",
    "\n",
    "    # read cian data\n",
    "    path_to_cian_data = os.path.join(os.getcwd(), f\"{city}_files\", \"\")\n",
    "    list_of_files = glob.glob(path_to_cian_data + \"*.xlsx\")\n",
    "    # sort cian data by the time of download\n",
    "    list_of_files.sort(key=os.path.getctime)\n",
    "\n",
    "    offers_data = pd.DataFrame()\n",
    "    for i in range(len(list_of_files)):\n",
    "        raion_data = get_raion_file(i)\n",
    "        offers_data = pd.concat([offers_data, raion_data], join='outer', ignore_index=True)\n",
    "\n",
    "    return offers_data\n"
   ]
  },
  {
   "cell_type": "code",
   "execution_count": 3,
   "metadata": {},
   "outputs": [],
   "source": [
    "def print_heat_map(data):\n",
    "    fig, ax = plt.subplots(1, figsize=(40, 20))\n",
    "    ax.axis('off')\n",
    "    ax.set_title(F'Heat Map of average square meter price of appartment in {city.capitalize()} districts in rubles',\n",
    "                 fontdict={'fontsize': '40', 'fontweight': '3'})\n",
    "\n",
    "    # price borders\n",
    "    vmin, vmax, vmean = data.average_price.min(), \\\n",
    "                        data.average_price.max(), data.average_price.mean()\n",
    "\n",
    "    color = 'Pastel2'\n",
    "    sm = plt.cm.ScalarMappable(cmap=color, norm=plt.Normalize(vmin=vmin, vmax=vmax))\n",
    "    sm._A = []\n",
    "    cbar = fig.colorbar(sm)\n",
    "    cbar.ax.tick_params(labelsize=20)\n",
    "\n",
    "    data.plot('average_price', cmap=color, linewidth=0.8, ax=ax, edgecolor='0.8', figsize=(40, 20))\n",
    "\n",
    "    lower_bound, upper_bound = 5 / 8 * vmin + 3 / 8 * vmax, 5 / 8 * vmax + 3 / 8 * vmin\n",
    "    # lower_bound, upper_bound = vmean, 3/4 * vmax + 1/4 * vmin\n",
    "    for idx, row in data.iterrows():\n",
    "        if lower_bound < row['average_price'] and row['average_price'] < upper_bound:\n",
    "            plt.annotate(text=idx, xy=np.concatenate(row[\"center\"].coords.xy),\n",
    "                         horizontalalignment='left', fontsize='large', color='black', wrap=True)\n",
    "\n",
    "    plt.show()\n",
    "    "
   ]
  },
  {
   "cell_type": "code",
   "execution_count": 4,
   "metadata": {},
   "outputs": [],
   "source": [
    "def heat_city(city):\n",
    "    def get_average_price_data(offers):\n",
    "        \"\"\"returns df with average price in each district\"\"\"\n",
    "        # add price and square columns\n",
    "        offers[\"price\"] = offers[\"Цена\"].str.replace(' .+', '').astype(float)\n",
    "        offers[\"square\"] = offers[\"Площадь, м2\"].str.replace('/.+', '').astype(float)\n",
    "        # aggregate price and square data\n",
    "        price_data = offers.groupby(\"raion_name\").agg({\"price\": \"sum\", \"square\": \"sum\"})\n",
    "        # calculate average price\n",
    "        price_data[\"average_price\"] = price_data.price / price_data.square\n",
    "        # saort data by average price in descending order\n",
    "        price_data.sort_values(\"average_price\", ascending=False)\n",
    "\n",
    "        return price_data\n",
    "\n",
    "    global regions\n",
    "    offers_data = get_merged_data(city)\n",
    "    price_data = get_average_price_data(offers_data)\n",
    "\n",
    "    # megred contains average price, geometry, and polygon center\n",
    "    merged_df = regions.set_index('raion_name').join(price_data[[\"average_price\"]])\n",
    "    merged_df[\"center\"] = merged_df.geometry.apply(lambda x: x.centroid)\n",
    "\n",
    "    print_heat_map(merged_df)\n",
    "    # end\n"
   ]
  },
  {
   "cell_type": "code",
   "execution_count": 5,
   "metadata": {},
   "outputs": [],
   "source": [
    "def get_regions_data(city) -> pd.DataFrame:\n",
    "    # read polygon data\n",
    "    path_to_geo_data = os.path.join(os.getcwd(), 'forAnalysis', f'{city}.csv')\n",
    "    return gpd.read_file(path_to_geo_data, GEOM_POSSIBLE_NAMES=\"geometry\", KEEP_GEOM_COLUMNS=\"NO\")\n"
   ]
  },
  {
   "cell_type": "code",
   "execution_count": null,
   "metadata": {},
   "outputs": [],
   "source": []
  },
  {
   "cell_type": "code",
   "execution_count": 6,
   "metadata": {},
   "outputs": [],
   "source": [
    "def city_input() -> str:\n",
    "    \"\"\"returns city name by entered index\"\"\"\n",
    "    city_index = input(\"Enter the number of the city you want: \"\n",
    "                       \"\\n1 — Moscow;\\n2 — SPB;\\n3 — Ekaterinburg.\\n\").strip()\n",
    "    if city_index not in ('1', '2', '3'):\n",
    "        while True:\n",
    "            city_index = input(\"Please, enter correct number of a city: \"\n",
    "                               \"1 — Moscow; 2 — SPB; 3 — Ekaterinburg.\\n\").strip()\n",
    "            if city_index in ('1', '2', '3'):\n",
    "                break\n",
    "    return (\"moscow\", \"spb\", 'ekaterinburg')[int(city_index) - 1]\n"
   ]
  },
  {
   "cell_type": "code",
   "execution_count": null,
   "metadata": {},
   "outputs": [],
   "source": []
  },
  {
   "cell_type": "code",
   "execution_count": null,
   "metadata": {},
   "outputs": [],
   "source": [
    "if __name__ == \"__main__\":\n",
    "    city = city_input()\n",
    "\n",
    "    # read polygon data\n",
    "    regions = get_regions_data(city)\n",
    "\n",
    "    parsing.download_files(regions, city)\n",
    "\n",
    "    msc = get_merged_data(city)\n",
    "    heat_city(city)\n"
   ]
  },
  {
   "cell_type": "code",
   "execution_count": null,
   "metadata": {},
   "outputs": [],
   "source": []
  },
  {
   "cell_type": "code",
   "execution_count": null,
   "metadata": {},
   "outputs": [],
   "source": []
  },
  {
   "cell_type": "code",
   "execution_count": null,
   "metadata": {},
   "outputs": [],
   "source": []
  },
  {
   "cell_type": "code",
   "execution_count": null,
   "metadata": {},
   "outputs": [],
   "source": []
  }
 ],
 "metadata": {
  "kernelspec": {
   "display_name": "Python 3",
   "language": "python",
   "name": "python3"
  },
  "language_info": {
   "codemirror_mode": {
    "name": "ipython",
    "version": 3
   },
   "file_extension": ".py",
   "mimetype": "text/x-python",
   "name": "python",
   "nbconvert_exporter": "python",
   "pygments_lexer": "ipython3",
   "version": "3.8.5"
  }
 },
 "nbformat": 4,
 "nbformat_minor": 4
}
